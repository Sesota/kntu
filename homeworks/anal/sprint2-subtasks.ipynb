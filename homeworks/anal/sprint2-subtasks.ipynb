{
 "cells": [
  {
   "cell_type": "markdown",
   "metadata": {},
   "source": [
    "# Subtasks\n",
    "## Sepehr\n",
    "1. Bloom homepage front (3)\n",
    "    - design (1.5)\n",
    "    - content (1.5)\n",
    "2. Creator landing page back (4)\n",
    "    - dashboard api for follower join (1.5)\n",
    "    - dynamic elements (header, posts, ...) (1.5)\n",
    "    - preview (1)\n",
    "3. Discover creator page front (1.5)\n",
    "    - autocomplete field in navbar (0.5)\n",
    "    - discover page (1)\n",
    "    \n",
    "## Alireza\n",
    "1. Follower homepage front (2.5)\n",
    "    - layout for the page (creators, posts, actions) (1)\n",
    "    - detail of each component (1.5)\n",
    "2. Creator landing page front (1.5)\n",
    "    - followers, data visualization (1)\n",
    "    - details of each (0.5)\n",
    "3. Profile page front (2)\n",
    "    - personal data, (get,post,put) (1)\n",
    "    - posts (1)\n",
    "4. Creator dashboard front (3)\n",
    "    - flows, functionality design (1)\n",
    "    - implementation of each component (settings, data, ...) (2)"
   ]
  }
 ],
 "metadata": {
  "kernelspec": {
   "display_name": "kntu-5ohLpir4",
   "language": "python",
   "name": "kntu-5ohlpir4"
  },
  "language_info": {
   "codemirror_mode": {
    "name": "ipython",
    "version": 3
   },
   "file_extension": ".py",
   "mimetype": "text/x-python",
   "name": "python",
   "nbconvert_exporter": "python",
   "pygments_lexer": "ipython3",
   "version": "3.8.5"
  },
  "widgets": {
   "application/vnd.jupyter.widget-state+json": {
    "state": {},
    "version_major": 2,
    "version_minor": 0
   }
  }
 },
 "nbformat": 4,
 "nbformat_minor": 4
}
