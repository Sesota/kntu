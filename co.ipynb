{
 "cells": [
  {
   "cell_type": "markdown",
   "metadata": {},
   "source": [
    "# Session 1"
   ]
  },
  {
   "cell_type": "markdown",
   "metadata": {},
   "source": [
    "# Session 2"
   ]
  },
  {
   "cell_type": "markdown",
   "metadata": {},
   "source": [
    "# Session 3"
   ]
  },
  {
   "cell_type": "markdown",
   "metadata": {},
   "source": [
    "# Session 4"
   ]
  },
  {
   "cell_type": "markdown",
   "metadata": {},
   "source": [
    "# Session 5"
   ]
  },
  {
   "cell_type": "markdown",
   "metadata": {},
   "source": [
    "# Session 6"
   ]
  },
  {
   "cell_type": "markdown",
   "metadata": {},
   "source": [
    "# Session 7"
   ]
  },
  {
   "cell_type": "markdown",
   "metadata": {},
   "source": [
    "# Session 8"
   ]
  },
  {
   "cell_type": "markdown",
   "metadata": {},
   "source": [
    "# Session 9"
   ]
  },
  {
   "cell_type": "markdown",
   "metadata": {},
   "source": [
    "# Session 10"
   ]
  },
  {
   "cell_type": "markdown",
   "metadata": {},
   "source": [
    "# Session 11"
   ]
  },
  {
   "cell_type": "markdown",
   "metadata": {},
   "source": [
    "# Session 12 - Synthesis - Overview\n",
    "first, lets review the whole codesign flow"
   ]
  },
  {
   "cell_type": "markdown",
   "metadata": {},
   "source": [
    "## Specification\n",
    "starting point of codesign, high-level system specification (functional and behavioral)"
   ]
  },
  {
   "cell_type": "markdown",
   "metadata": {},
   "source": [
    "## Synthesis\n",
    "#### Stages\n",
    "1. Allocation: chosing system's sections\n",
    "2. Partitioning: mapping model's sections to system's sections\n",
    "3. Scheduling: scheduling execution of sections\n",
    "\n",
    "#### Analysis and Evaluation\n",
    "at each stage, we need to evaluate the system by simulation or analysis\n",
    "- functional\n",
    "- quality measures"
   ]
  },
  {
   "cell_type": "markdown",
   "metadata": {},
   "source": [
    "### Allocation\n",
    "- the beginning of design space exploration.\n",
    "- specifying sections (processor, memory, special sections), their quantity and their connections.\n",
    "- done by the designer."
   ]
  },
  {
   "cell_type": "markdown",
   "metadata": {},
   "source": [
    "### Partitioning\n",
    "- mapping behavioural sections specified in specification stage to the sections specified in allocation's architecture\n",
    "- trying to respect system limitations and keep the quality at the same time.\n",
    "- several algorithms have been studied to help this stage.\n",
    "- system specification may be modified while doing this stage."
   ]
  },
  {
   "cell_type": "markdown",
   "metadata": {},
   "source": [
    "### Scheduling\n",
    "- respecting system limitations\n",
    "- respecting dependencies between sections\n",
    "- reducing syncronization overhead resulted by messaging\n",
    "\n",
    "Strategies:\n",
    "1. Dynamic scheduling\n",
    "    - when data flow is determined in **runtime**\n",
    "    - minimum scheduling\n",
    "2. Static scheduling\n",
    "    - execution times and conditional branches are estimated\n",
    "    - bad estimations leads to expensive syncronization overheads"
   ]
  },
  {
   "cell_type": "markdown",
   "metadata": {},
   "source": [
    "## Backend\n",
    "implementation: the result of synthesis will be given to several tools\n",
    "1. processor => compiler => machine code\n",
    "2. ASIC => highlevel synthesis tools => PCB\n",
    "3. connections => like ASIC"
   ]
  },
  {
   "cell_type": "markdown",
   "metadata": {},
   "source": [
    "# Session 13 - Synthesis - Partitioning - Algorithms"
   ]
  },
  {
   "cell_type": "markdown",
   "metadata": {},
   "source": [
    "## Partitioning methods\n",
    "Flow:\n",
    "1. transform functional requirements to processes\n",
    "2. estimate the execution time of each process on processing elements"
   ]
  },
  {
   "cell_type": "markdown",
   "metadata": {},
   "source": [
    "### Design Space Exploration\n",
    "explore states and choose the best answer which meets all requirements.\n",
    "\n",
    "1. exhaustive search (brute force): costly\n",
    "2. exact methods: based on mathematical modeling, suitable for small design spaces\n",
    "3. heuristic methods\n",
    "4. meta heuristic methods (e.g evolutional algorithms)\n",
    "\n",
    "- inputs: task graph (similar to DFG), system architecture (sections and connections)\n",
    "- output: mapping processes in task graph to section in architecture\n",
    "\n",
    "categorizing strategies based on their priority regarding the limitations (performance, cost):\n",
    "- primal approach - performance based: Vulcan\n",
    "- dual approach - cost based: Cosyma"
   ]
  },
  {
   "cell_type": "markdown",
   "metadata": {},
   "source": [
    "# Session 14 - Synthesis - Partitioning - Algotithms - Vulcan"
   ]
  },
  {
   "cell_type": "markdown",
   "metadata": {},
   "source": [
    "## Vulcan algorithm\n",
    "efficiency based => hardware based => balancing cost by iterative pruning of unnecessary concurrencies and mapping those processes to software\n",
    "\n",
    "language: HardwareC\n",
    "- compiled into a flow graph similar to task graph\n",
    "- each node is a low-level operation\n",
    "- each edge is a binary condition\n",
    "    - controls concurrency\n",
    "    - controls execution time of each node\n",
    "\n",
    "task graph transforms into threads (e.g on wait nodes) => threads map to CPU ($\\phi _S$) or ASIC ($\\phi _H$)\n",
    "\n",
    "cost function:\n",
    "$$f(\\omega)=c_1S_h(\\phi_H)-c_2S_s(\\phi _S)+c_3B-c_4P+c_5|m|$$\n",
    "in which:\n",
    "- $S_h$ is HW size\n",
    "- $S_s$ is SW size\n",
    "- $B$ is bus transfer rate\n",
    "- $P$ is processor transfer rate\n",
    "- $|m|$ is number of variables\n",
    "- $c_1 ... c_5$ are constants\n",
    "\n",
    "stages:\n",
    "1. initial partition: mapping all threads to $\\phi _H$\n",
    "2. looping:\n",
    "    1. candidating some threads to be mapped into $\\phi _S$\n",
    "        1. calculating performance and continuing if requirements are met\n",
    "            - calculation is done by estimating the worst case delay caused by the new partitioning in task graph\n",
    "    2. updating cost function to evaluate effectiveness of the new partitioning\n",
    "    \n",
    "to minimize communication cost, with each thread transportation from $\\phi _H$ to $\\phi _S$ the very next node to the thread will be candidated.\n",
    "\n",
    "there's no step-back in transportation (from $\\phi _S$ to $\\phi _H$)"
   ]
  },
  {
   "cell_type": "markdown",
   "metadata": {},
   "source": [
    "# Session 14 - Synthesis - Partitioning - Algorithms - Cosyma and GCLP"
   ]
  },
  {
   "cell_type": "markdown",
   "metadata": {},
   "source": [
    "## Cosyma algorithm\n",
    "language: $C^x$, compiled into a CDFG\n",
    "\n",
    "code is quantized into \"basic blocks\", which are branch-free blocks. these blocks are then partitioned into HW and SW\n",
    "\n",
    "1. all basic blocks are assigned to CPU\n",
    "2. loop:\n",
    "    1. moving each basic block to ASIC and calculating the change in cost (execution time):\n",
    "    $$\\Delta c(b)=\\omega(t_H(b)-t_S(b)+\\Delta t_{com}(b))\\times It(b)$$\n",
    "        in which:\n",
    "        - $\\Delta c$ is the change of the cost function caused by moving the basic block $b$\n",
    "        - $\\omega$ is constant\n",
    "        - $t_H(b)$ is execution time of basic block $b$ in HW\n",
    "        - $t_S(b)$ is execution time of basic block $b$ in SW\n",
    "        - $\\Delta t_{com}(b)$ is estimated change in communtication time\n",
    "        - $It(b)$ is total number of times $b$ is executed\n",
    "    2. if the change was negative then the block is moved, else, the block is moved with a probability which decreases with each iteration (simulated annealing)\n",
    "    3. another block is selected in neighbourhood"
   ]
  },
  {
   "cell_type": "markdown",
   "metadata": {},
   "source": [
    "## Global Critically/Local Phase algorithm (GCLP)\n",
    "a more balanced approach\n",
    "### global critically (performance based)\n",
    "a measure based on critically of system latency. the more critical system the more HW mapping. re-computed in every iteration based on already scheduled nodes and remaining latency capacity.\n",
    "### local phase (cost based)\n",
    "a per node value, calculated based on 3 phases each node can be categorized into. \n",
    "\n",
    "### objective functions\n",
    "each node is mapped either to SW or HW based on comparison made between GC and almost LP."
   ]
  },
  {
   "cell_type": "markdown",
   "metadata": {},
   "source": [
    "# Session 16 - Synthesis - Partitioning - Algorithms - Distributed Systems"
   ]
  },
  {
   "cell_type": "markdown",
   "metadata": {},
   "source": [
    "## Heuristic methods"
   ]
  },
  {
   "cell_type": "markdown",
   "metadata": {},
   "source": [
    "### iterative methods\n",
    "1. random initial state\n",
    "2. search in neighbourhood and choose a candidate state\n",
    "3. evaluate the candidate according to the cost function and system requirements\n",
    "    - greedy approach (local minimum problem)\n",
    "    - other complex approaches (e.g simulated annealing)"
   ]
  },
  {
   "cell_type": "markdown",
   "metadata": {},
   "source": [
    "### constructive methods\n",
    "- random partitioning\n",
    "- hierarchial categorization"
   ]
  },
  {
   "cell_type": "markdown",
   "metadata": {},
   "source": [
    "## Distributed Systems\n",
    "multiprocessor architecture\n",
    "- less focus on ASIC design and architecture\n",
    "- non-homogeneous structure\n",
    "    - more usage\n",
    "    - complex and diverse in:\n",
    "        - processing elements\n",
    "        - processing power\n",
    "- commonly used (MPSoC)\n",
    "\n",
    "Methods:\n",
    "- exact methods (e.g modeling based on Integer Linear Programming)\n",
    "- heuristic methods (e.g wolf algorithm)"
   ]
  },
  {
   "cell_type": "markdown",
   "metadata": {},
   "source": [
    "### wolf method\n",
    "pros:\n",
    "- faster\n",
    "- optimized and performant solution for big problems\n",
    "\n",
    "stages:\n",
    "1. initial state: mapping each process to processing elements according to their timing order (scheduling)\n",
    "2. remapping based on costs\n",
    "    - first, processes on processing elements with lesser utilization rate are moved to SW. another option is removing these processing elements or replacing them with more suitable elements\n",
    "    - processing elements may merge and load is balanced\n",
    "3. remapping based on communication cost\n",
    "    - maximizing inter-block communication\n",
    "4. mapping communication channels based on results\n",
    "5. mappnig IO utils to processing elements"
   ]
  },
  {
   "cell_type": "markdown",
   "metadata": {},
   "source": [
    "# Session 17 - Synthesis - Partitioning - Algorithms - Distributed Systems - ILP"
   ]
  },
  {
   "cell_type": "markdown",
   "metadata": {},
   "source": [
    "## Exact Methods\n",
    "mathematical modeling which leads to the most optimized solution\n",
    "- NP-complete => exponential growth of time complexity\n",
    "- solvable only in relaxed situations by solver tools"
   ]
  },
  {
   "cell_type": "markdown",
   "metadata": {},
   "source": [
    "### integer linear programming\n",
    "linear programming types:\n",
    "1. linear programming (LP)\n",
    "2. integer linear programming (ILP)\n",
    "3. mixed integer linear programming (MILP)\n",
    "\n",
    "system variables:\n",
    "$$X=\\{x_1,x_2,x_3,...,x_n\\}$$\n",
    "\n",
    "objective function:\n",
    "$$C(X)=\\sum_{x_i \\in X} a_ix_i$$\n",
    "\n",
    "constraints:\n",
    "$$\\forall j \\in J:\\sum_{x_i \\in X} b_{i,j}x_i \\geq c_j$$\n",
    "\n",
    "problem is minimizing/maximizing the objective function while constraints are regarded."
   ]
  },
  {
   "cell_type": "markdown",
   "metadata": {},
   "source": [
    "### Prakash and Parker method\n",
    "based on ILP\n",
    "\n",
    "steps:\n",
    "1. defining variables\n",
    "2. defining objective function based on costs of elements and connections\n",
    "3. defining contraints (also partitioning constraints: one processor per process, chronology, preventing overcrowd, ...)\n",
    "\n",
    "- best answer\n",
    "- task graph with maximum 9 nodes\n",
    "- perspective towards effectiveness of heuristic methods (suboptimal states)"
   ]
  }
 ],
 "metadata": {
  "kernelspec": {
   "display_name": "Python 3",
   "language": "python",
   "name": "python3"
  },
  "language_info": {
   "codemirror_mode": {
    "name": "ipython",
    "version": 3
   },
   "file_extension": ".py",
   "mimetype": "text/x-python",
   "name": "python",
   "nbconvert_exporter": "python",
   "pygments_lexer": "ipython3",
   "version": "3.8.6"
  },
  "toc-autonumbering": true,
  "toc-showcode": false,
  "toc-showmarkdowntxt": false
 },
 "nbformat": 4,
 "nbformat_minor": 4
}
