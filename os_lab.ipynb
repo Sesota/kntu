{
 "cells": [
  {
   "cell_type": "markdown",
   "metadata": {},
   "source": [
    "# Session 1"
   ]
  },
  {
   "cell_type": "markdown",
   "metadata": {},
   "source": [
    "# Session 2"
   ]
  },
  {
   "cell_type": "markdown",
   "metadata": {},
   "source": [
    "## find\n",
    "`find path condition action`  \n",
    "- `find ~ -type f -atime +30 -exec rm -f {} \\;`"
   ]
  },
  {
   "cell_type": "markdown",
   "metadata": {},
   "source": [
    "## grep\n",
    "Options:\n",
    "- `-r`: recursive search\n",
    "- `-i`: insensitive\n",
    "- `-c`: show number of lines"
   ]
  },
  {
   "cell_type": "markdown",
   "metadata": {},
   "source": [
    "## chmod\n",
    "`chmod uo-xw text.txt`  \n",
    "`chmod u=x text.txt`  \n",
    "`chmod -R 544 text.txt`  "
   ]
  },
  {
   "cell_type": "markdown",
   "metadata": {},
   "source": [
    "## chgrp"
   ]
  },
  {
   "cell_type": "markdown",
   "metadata": {},
   "source": [
    "## echo\n",
    "Options\n",
    "- `-n`: don't put NL at end\n",
    "- `-e`: enable escaping\n",
    "- `-E`: disable escaping"
   ]
  },
  {
   "cell_type": "markdown",
   "metadata": {},
   "source": [
    "## sleep\n",
    "`sleep (seconds)`"
   ]
  },
  {
   "cell_type": "markdown",
   "metadata": {},
   "source": [
    "## history\n",
    "`history && !4`  \n",
    "`history && !-1`  \n",
    "`history && !!`  \n",
    "ctrl+p?"
   ]
  },
  {
   "cell_type": "markdown",
   "metadata": {},
   "source": [
    "## who\n",
    "list currently loggedin users"
   ]
  },
  {
   "cell_type": "markdown",
   "metadata": {},
   "source": [
    "## whoami"
   ]
  },
  {
   "cell_type": "markdown",
   "metadata": {},
   "source": [
    "## groups"
   ]
  },
  {
   "cell_type": "markdown",
   "metadata": {},
   "source": [
    "## whatis\n",
    "equal to `man`"
   ]
  },
  {
   "cell_type": "markdown",
   "metadata": {},
   "source": [
    "## shutdown\n",
    "`shutdown -r +2`  \n",
    "`shutdown -h now`  \n",
    "Options:\n",
    "- `-h`: shutdown\n",
    "- `-r`: reboot\n",
    "- `-c`: cancel"
   ]
  },
  {
   "cell_type": "markdown",
   "metadata": {},
   "source": [
    "## mount\n",
    "`mount -t filesystem device mountpoint`  \n",
    "`mount`: so see already mounted devices  \n",
    "`mount -t iso9660 /dev/cd0 /mnt/mycd`  "
   ]
  },
  {
   "cell_type": "markdown",
   "metadata": {},
   "source": [
    "## umount\n",
    "`umount mountpoint`"
   ]
  },
  {
   "cell_type": "markdown",
   "metadata": {},
   "source": [
    "## read\n",
    "Options:\n",
    "- `-p`: print a prompt string\n",
    "- `-t`: timeout in seconds"
   ]
  },
  {
   "cell_type": "markdown",
   "metadata": {},
   "source": [
    "## ps\n",
    "Options:\n",
    "- `-a`: all users\n",
    "- `-u`: show usernames\n",
    "- `-e`: show processes from running services too\n",
    "- `-ax`: show all foreground(terminal) and background processes"
   ]
  },
  {
   "cell_type": "markdown",
   "metadata": {},
   "source": [
    "## pstree"
   ]
  },
  {
   "cell_type": "markdown",
   "metadata": {},
   "source": [
    "## top\n",
    "Shows processes every 5 second, sorted by cpu usage in descending order  \n",
    "Options:\n",
    "- `-n`: only run n times\n",
    "- `-p`: pid\n",
    "- `-u`: username"
   ]
  },
  {
   "cell_type": "markdown",
   "metadata": {},
   "source": [
    "## uptime\n",
    "Shows:\n",
    "- current time\n",
    "- uptime after last boot\n",
    "- number of connected users\n",
    "- system load\n",
    "\n",
    "for last 1,5,15 minutes"
   ]
  },
  {
   "cell_type": "markdown",
   "metadata": {},
   "source": [
    "## du\n",
    "used space by a directory or file"
   ]
  },
  {
   "cell_type": "markdown",
   "metadata": {},
   "source": [
    "## df\n",
    "shows used space and free space by filesystems"
   ]
  },
  {
   "cell_type": "markdown",
   "metadata": {},
   "source": [
    "# Session 3"
   ]
  },
  {
   "cell_type": "markdown",
   "metadata": {},
   "source": [
    "## date\n",
    "Prints and/or edits datetime.\n",
    "\n",
    "- `date`\n",
    "- `date --set \"2 oct 2006 15:00:00\"`\n",
    "- `date +%T -s \"10:12:11\"`\n",
    "- `date +%Y-%m-%d -s \"2008-11-28\"`"
   ]
  },
  {
   "cell_type": "markdown",
   "metadata": {},
   "source": [
    "## kill\n",
    "`kill signal PID`  \n",
    "\n",
    "`kill -l`: shows signal list\n",
    "\n",
    "Signals:\n",
    "- SIGHUP(1): restart the process with the same PID\n",
    "- SIGINT(2): interrupt (ctrl+c)\n",
    "- SIGTERM(15): terminate gracefully\n",
    "- SIGKILL(9): terminate forcibly (kernel)"
   ]
  },
  {
   "cell_type": "markdown",
   "metadata": {},
   "source": [
    "## uname\n",
    "System info\n",
    "\n",
    "Options:\n",
    "- `-a`: OS name, machine name, kernel version and CPU architecture\n",
    "- `-r`: kernel version\n",
    "- `-o`: OS name\n",
    "- `-m`: machine architecture"
   ]
  },
  {
   "cell_type": "markdown",
   "metadata": {},
   "source": [
    "## file\n",
    "File type"
   ]
  },
  {
   "cell_type": "markdown",
   "metadata": {},
   "source": [
    "## umask\n",
    "print and/or edit the default chmod  \n",
    "**note**: the number in front of umask is compliment of chmod number (0002 = 775)"
   ]
  },
  {
   "cell_type": "markdown",
   "metadata": {},
   "source": [
    "## hostname\n",
    "print and/or edit machine name"
   ]
  },
  {
   "cell_type": "markdown",
   "metadata": {},
   "source": [
    "## last\n",
    "recently loggedin users"
   ]
  },
  {
   "cell_type": "markdown",
   "metadata": {},
   "source": [
    "## lastb\n",
    "recently failed logins (bad logins)"
   ]
  },
  {
   "cell_type": "markdown",
   "metadata": {},
   "source": [
    "## stat\n",
    "prints directory information:\n",
    "- Access date\n",
    "- Modification date\n",
    "- Access rights\n",
    "- Location on disk\n",
    "- inode number\n",
    "- ..."
   ]
  },
  {
   "cell_type": "markdown",
   "metadata": {},
   "source": [
    "## wc\n",
    "word count\n",
    "\n",
    "prints lines, words and characters of a text file\n",
    "\n",
    "Options:\n",
    "- `-l`: lines\n",
    "- `-w`: words\n",
    "- `-c`: characters"
   ]
  },
  {
   "cell_type": "markdown",
   "metadata": {},
   "source": [
    "## cut\n",
    "print parts of a text file\n",
    "\n",
    "Options:\n",
    "- `-b`: bytes number\n",
    "- `-c`: characters number\n",
    "- `-f`: field number\n",
    "    - `-d`: field delimiter (defaults TAB)"
   ]
  },
  {
   "cell_type": "markdown",
   "metadata": {},
   "source": [
    "## nohup\n",
    "`nohup cmd`  \n",
    "Prevents `cmd` from interruption even with user logout"
   ]
  },
  {
   "cell_type": "markdown",
   "metadata": {},
   "source": [
    "## nice\n",
    "`nice -n 10 python test.py`  \n",
    "Run a program with specified CPU priority.\n",
    "\n",
    "$n \\in [-20,19]$, defaults 10, higher value means less priority"
   ]
  },
  {
   "cell_type": "markdown",
   "metadata": {},
   "source": [
    "## id\n",
    "user id and group id"
   ]
  },
  {
   "cell_type": "markdown",
   "metadata": {},
   "source": [
    "## free\n",
    "free space and used space"
   ]
  },
  {
   "cell_type": "markdown",
   "metadata": {},
   "source": [
    "## wall\n",
    "Admin to users broadcast message"
   ]
  },
  {
   "cell_type": "markdown",
   "metadata": {},
   "source": [
    "## watch\n",
    "command repetition"
   ]
  },
  {
   "cell_type": "markdown",
   "metadata": {},
   "source": [
    "## mail\n",
    "`mail`  \n",
    "`mail option to-address`\n",
    "\n",
    "Options:\n",
    "- `-s`: Subject\n",
    "- `-c`: cc\n",
    "- `-b`: bcc\n",
    "- `-a`: attach file\n",
    "\n",
    "Commands:\n",
    "- `#n`: Open mail number #n\n",
    "- `delete #n`\n",
    "- `write #n file-name`: save mail and its attachment to file-name\n",
    "- `q`"
   ]
  },
  {
   "cell_type": "markdown",
   "metadata": {},
   "source": [
    "# Session 4"
   ]
  },
  {
   "cell_type": "markdown",
   "metadata": {},
   "source": [
    "# Session 5"
   ]
  },
  {
   "cell_type": "markdown",
   "metadata": {},
   "source": [
    "# Session 6"
   ]
  },
  {
   "cell_type": "markdown",
   "metadata": {},
   "source": [
    "# Session 7"
   ]
  },
  {
   "cell_type": "markdown",
   "metadata": {},
   "source": [
    "## awk\n",
    "`awk 'pattern {action}' file`  \n",
    "traverses the file line by line and in each line looks for the pattern and does the action on it. If no pattern is specified, then the action will be executed on every line. The default action is print.\n",
    "\n",
    "`ls -l | awk '/a/{print $1 $9}`: prints 1st field and 9th field of every line that contains 'a' character from directory listing.\n",
    "\n",
    "**note**: field delimiter is tab or space, custom delimiter is specified via `-F <delimiter>`\n",
    "\n",
    "- `NR`: number of row\n",
    "- `NF`: number of fields\n",
    "- `$0`: the whole row\n",
    "- `END`: after traversing\n",
    "- `BEGIN`: before traversing\n",
    "\n",
    "### Examples:\n",
    "```\n",
    "awk 'NR==2, NR==4' file\n",
    "awk '$3<=65 || $5>33' file\n",
    "awk -F , '{print $2}' file\n",
    "awk '$2 ~/[0-9]/ {print $3,$1}' file\n",
    "awk '$3<=$2 && $3>$1 {$3 ++} {print $0}' file\n",
    "awk '{var+=$3} END {print var/NR}' file\n",
    "awk '$1 ~/^h/' file\n",
    "awk '$5>var {var=$5} END {print var}' file\n",
    "awk -v var=abc '$3 ~ var {$print $0} file\n",
    "```\n",
    "\n",
    "### Control commands (in action section):\n",
    "#### if\n",
    "1. `if() action`\n",
    "2. `if(){action1;action2;}`\n",
    "3. `if() action1 else action2`\n",
    "4. `if() action1; else if() action2; else action3;`\n",
    "\n",
    "#### while\n",
    "`while() action`\n",
    "\n",
    "#### do-while\n",
    "`do action while()`\n",
    "\n",
    "#### for\n",
    "`for (init; cond; incr) actions`  \n",
    "**note**: `break;`, `continue;` and `exit;` are valid statements in loops\n",
    "\n",
    "Examples:\n",
    "```\n",
    "awk '{if($3==\"\" || $4==\"\")print\"there is no amount\"}' file\n",
    "awk '{while ($4<50) total=$4+50; print total}' file\n",
    "awk '{do print $7; while($1!=0)}' file\n",
    "awk '{for(i=5;i>0;i--) print $i,\" \"; print \"\\n\";}' file\n",
    "```"
   ]
  },
  {
   "cell_type": "markdown",
   "metadata": {},
   "source": [
    "## tr\n",
    "`tr char[or list] char[or list] < file`  \n",
    "translates (replaces) a character set of a text file with another set.\n",
    "\n",
    "**note**: output will not be written into the input file\n",
    "\n",
    "Option `-s`: merges multiple sequential same characters into one.  \n",
    "Usage is to merge repetitive sequential delimiters to be used on `cut` command\n",
    "\n",
    "Example: `tr -s \":\" < file`\n"
   ]
  },
  {
   "cell_type": "markdown",
   "metadata": {},
   "source": [
    "## sed\n",
    "substitutes a pattern with another\n",
    "\n",
    "Example: `sed s/pttr1/pttr2/ < file`"
   ]
  },
  {
   "cell_type": "markdown",
   "metadata": {},
   "source": [
    "## eval\n",
    "`eval cmd`  \n",
    "executes cmd"
   ]
  },
  {
   "cell_type": "markdown",
   "metadata": {},
   "source": [
    "## sort\n",
    "`sort -t <delimiters> -k <field-number> -k <field-number> file`  \n",
    "Example: `sort -t : -k 1.3,1.5 -k 2 file` sorts `file` according to the substring(3,5) of the 1st field and then according to the 2nd field."
   ]
  },
  {
   "cell_type": "markdown",
   "metadata": {},
   "source": [
    "## dirname\n",
    "`dirname file`"
   ]
  },
  {
   "cell_type": "markdown",
   "metadata": {},
   "source": [
    "## tar\n",
    "`tar options dest sources`  \n",
    "archives multiple files and directories in a *tarball* file\n",
    "\n",
    "Options:\n",
    "- `-c`: create archive\n",
    "- `-p`: save permissions\n",
    "- `-f`: archive filename\n",
    "- `-M`: multivolume archiving\n",
    "- `-x`: untar\n",
    "- `-C`: specify another directory for archiving\n",
    "- `-t`: show archive contents\n",
    "- `-d`: diff (compare) original and archived files\n",
    "- `-r`: append a file to an existing archive\n",
    "- `-P`: archive a directory's whole contents\n",
    "- `-g`: replace modified files of an existing archive\n",
    "- `--delete`: delete file from archive\n",
    "- `-u`: update archive\n",
    "- `-z`: gzip the archived file\n",
    "- `-j`: bzip2 the archived file (more compression)"
   ]
  },
  {
   "cell_type": "markdown",
   "metadata": {},
   "source": [
    "# Session 8"
   ]
  },
  {
   "cell_type": "markdown",
   "metadata": {},
   "source": [
    "## Networking\n",
    "\n",
    "### ifconfig\n",
    "- `ifconfig -a`: show all interfaces\n",
    "- `ifconfig interface`: show info about interface\n",
    "- `ifconfig interface ip`: define ip address (static)\n",
    "- `ifconfig interface netmask netmask ip`: define netmask\n",
    "\n",
    "### dhclient\n",
    "set dynamic ip for interface\n",
    "\n",
    "### ifdown\n",
    "disable interface\n",
    "\n",
    "### ifup\n",
    "enable interface\n",
    "\n",
    "**note**: In order to set permanent settings for an interface, change the file in `/etc/sysconfig/network-scripts/ifcfg-<interface>` and then restart `network.service`\n",
    "```json\n",
    "ONBOOT=yes\n",
    "BOOTPROTO=static\n",
    "IPADDR=192.168.1.20\n",
    "NETMASK=255.255.255.0\n",
    "GATEWAY=192.168.1.1\n",
    "DNS1=192.168.1.2\n",
    "DNS2=192.168.1.3\n",
    "```\n",
    "## DNS Server\n",
    "Files:\n",
    "- `/etc/resolv.conf`: DNS server addresses\n",
    "- `/etc/hosts`\n",
    "- `/etc/nsswitch.conf`: Priority of hostname resolving file checking\n",
    "\n",
    "## IP aliasing\n",
    "Temp:\n",
    "1. `ifconfig <interface>:0 ip`\n",
    "\n",
    "Perma:\n",
    "1. create file `ifcfg-<interface>:0` using cp\n",
    "2. enter this into the file:\n",
    "    ```\n",
    "    NM_CONTROLLED=no\n",
    "    NAME=<interface>:0\n",
    "    DEVICE=<interface>:0\n",
    "    ```\n",
    "3. restart `network.service`\n",
    "\n",
    "### arp\n",
    "prints and/or edits maps ip to MAC.\n",
    "\n",
    "Options:\n",
    "- `-a`: print all\n",
    "- `-d`: delete a record\n",
    "- `-s`: set a record\n",
    "\n",
    "### dns resolving or ip lookup\n",
    "- `nslookup www.google.com`\n",
    "- `dig www.google.com`\n",
    "- `nslookup 91.98.37.20`\n",
    "- `dig 91.98.37.20`\n",
    "\n",
    "### traceroute\n",
    "`traceroute dest_ip`\n",
    "\n",
    "### wget\n",
    "`wget URL`  \n",
    "Download file, protocols: ftp, http, https\n",
    "\n",
    "Options:\n",
    "- `-r`: recursive fetch url\n",
    "- `-c`: continue previously interrupted download\n",
    "- `-T`: set timeout\n",
    "- `-t`: number of tries\n",
    "- `-b`: background download\n",
    "- `-i`: get url from file input\n",
    "\n",
    "### nmap\n",
    "`nmap ip`  \n",
    "Reveals open ports"
   ]
  },
  {
   "cell_type": "markdown",
   "metadata": {},
   "source": [
    "## File Compression\n",
    "\n",
    "Compression applications:\n",
    "- zip (.zip)\n",
    "- gzip (.gz)\n",
    "- bzip2 (.bz2)\n",
    "\n",
    "### zip\n",
    "`zip option dest.zip source`  \n",
    "\n",
    "Options:\n",
    "- `-r`: recursive\n",
    "- `-e`: set interactive password\n",
    "- `-P`: set uninteractive password (must be entered as a command argument)\n",
    "- `-d`: include the directory in the zip while compressing\n",
    "- `-l`: list contents of the compressed file\n",
    "- `-t`: test the compressed file's health\n",
    "\n",
    "### gzip\n",
    "`gzip src_file`  \n",
    "`gunzip src.gz` or `gzip -d src.gz`  \n",
    "\n",
    "**note**: to extract `*.tar.gz` files, first we run `gunzip` and then `tar -xvf`  \n",
    "**note**: specify compression power by `gzip -8 src`\n",
    "\n",
    "### bzip2\n",
    "More powerfull compressor. \n",
    "`bzip2 src`  \n",
    "`bunzip2 src.bz2` or `bzip2 -d src.bz2`\n",
    "\n"
   ]
  },
  {
   "cell_type": "markdown",
   "metadata": {},
   "source": [
    "## split\n",
    "`split -b section_size file`\n",
    "\n",
    "to merge: `cat file1 file2 file3 > file`\n",
    "\n"
   ]
  },
  {
   "cell_type": "markdown",
   "metadata": {},
   "source": [
    "## Background Execution\n",
    "1. putting '&' after the command  \n",
    "2. `bg cmd`\n",
    "\n",
    "- `jobs`: shows background processes\n",
    "- `fg`: brings background processes to foreground\n",
    "\n"
   ]
  },
  {
   "cell_type": "markdown",
   "metadata": {},
   "source": [
    "## Cron service\n",
    "`crontab -e`: edits the user cron file in `/var/spool/cron` that is named after his username\n",
    "\n",
    "Options:\n",
    "- `-e`: edit\n",
    "- `-r`: remove\n",
    "- `-l`: list (show contents)\n",
    "- `-u`: user (with elevated access)\n",
    "\n",
    "tasks are defined in `crontab` file. Each record has 7 fields; first 5 fields specify the timings, 6th field specify the username of the executor and 7th field specify the program.\n",
    "\n",
    "Fields:\n",
    "1. minute (0-59 or */n)\n",
    "2. hour (0-23 or */n)\n",
    "3. day of month (1-31)\n",
    "4. month (1-12)\n",
    "5. day of week (0-7, 0=>sunday)\n",
    "\n",
    "`/etc/cron.allow` and `/etc/cron.deny` specify valid and invalid users for cron service\n",
    "\n",
    "Other directories (to put command files in, in alphabetic order):\n",
    "- `/etc/cron.hourly`\n",
    "- `/etc/cron.daily`\n",
    "- `/etc/cron.weekly`\n",
    "- `/etc/cron.monthly`\n",
    "\n",
    "**note**:after execution of cronjobs, the result is mailed to the user specified for running the job. The mailed user could be changed by `MAILTO` variable.\n"
   ]
  },
  {
   "cell_type": "markdown",
   "metadata": {},
   "source": [
    "\n",
    "## RPM Packages\n",
    "`<software-name>-<version>-<cpu-architecture>`  \n",
    "### rpm\n",
    "used to install rpm packages\n",
    "\n",
    "Options:\n",
    "- `-i`: install\n",
    "    - `-vv`: verbosity\n",
    "    - `--percent`: progress bar\n",
    "    - `--force`: force overwriting newer versions with older versions\n",
    "    - `--nodeps`: ignore dependencies\n",
    "    - `--ignorearch`\n",
    "- `-q`: query\n",
    "    - `-qa`: show all installed packages\n",
    "    - `-qf file-name`: show package containing the file\n",
    "    - `-ql`: list all installed packages with their location\n",
    "    - `-qd`: show documentations\n",
    "    - `-qc`: show component files\n",
    "    - `-q --whatrequires`: show packages which depend on this package\n",
    "    - `-qR or -q --requires`: show dependencies\n",
    "- `-V`: verify\n",
    "- `-e`: erase package\n",
    "- `-U`: upgrade\n",
    "\n",
    "## yum\n",
    "package manager with higher level control  \n",
    "\n",
    "sources' information is stored in `.repo` files in `/etc/yum.repos.d`"
   ]
  }
 ],
 "metadata": {
  "kernelspec": {
   "display_name": "Python 3",
   "language": "python",
   "name": "python3"
  },
  "language_info": {
   "codemirror_mode": {
    "name": "ipython",
    "version": 3
   },
   "file_extension": ".py",
   "mimetype": "text/x-python",
   "name": "python",
   "nbconvert_exporter": "python",
   "pygments_lexer": "ipython3",
   "version": "3.8.5"
  },
  "toc-autonumbering": true,
  "toc-showcode": false,
  "toc-showmarkdowntxt": false,
  "toc-showtags": false
 },
 "nbformat": 4,
 "nbformat_minor": 4
}
